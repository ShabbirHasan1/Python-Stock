{
 "cells": [
  {
   "cell_type": "code",
   "execution_count": 222,
   "id": "c97d446f",
   "metadata": {},
   "outputs": [],
   "source": [
    "#using these guides\n",
    "#https://medium.com/swlh/a-technical-guide-on-rnn-lstm-gru-for-stock-price-prediction-bce2f7f30346\n",
    "#https://github.com/dataman-git/codes_for_articles/blob/master/From%20regression%20to%20RNN.ipynb\n",
    "#https://datascience.stackexchange.com/questions/93180/trying-to-extend-this-code-to-include-additional-feature-volume-in-addition-to\n",
    "#https://datascience.stackexchange.com/questions/91147/problems-to-understand-how-to-create-the-input-data-for-time-series-forecasting/92395?noredirect=1#comment97317_92395\n",
    "#https://towardsdatascience.com/recurrent-neural-networks-for-electricity-price-prediction-a26f8411ea44\n",
    "#https://github.com/Carterbouley/ElectricityPricePrediction\n",
    "#https://machinelearningmastery.com/multivariate-time-series-forecasting-lstms-keras/"
   ]
  },
  {
   "cell_type": "code",
   "execution_count": 223,
   "id": "d4393998",
   "metadata": {},
   "outputs": [],
   "source": [
    "import matplotlib as mpl\n",
    "import matplotlib.pyplot as plt"
   ]
  },
  {
   "cell_type": "code",
   "execution_count": 224,
   "id": "80a4fb28",
   "metadata": {},
   "outputs": [
    {
     "data": {
      "text/html": [
       "<div>\n",
       "<style scoped>\n",
       "    .dataframe tbody tr th:only-of-type {\n",
       "        vertical-align: middle;\n",
       "    }\n",
       "\n",
       "    .dataframe tbody tr th {\n",
       "        vertical-align: top;\n",
       "    }\n",
       "\n",
       "    .dataframe thead th {\n",
       "        text-align: right;\n",
       "    }\n",
       "</style>\n",
       "<table border=\"1\" class=\"dataframe\">\n",
       "  <thead>\n",
       "    <tr style=\"text-align: right;\">\n",
       "      <th></th>\n",
       "      <th>Adj Close</th>\n",
       "      <th>Volume</th>\n",
       "    </tr>\n",
       "    <tr>\n",
       "      <th>Date</th>\n",
       "      <th></th>\n",
       "      <th></th>\n",
       "    </tr>\n",
       "  </thead>\n",
       "  <tbody>\n",
       "    <tr>\n",
       "      <th>2013-01-02</th>\n",
       "      <td>257.31</td>\n",
       "      <td>3271000</td>\n",
       "    </tr>\n",
       "    <tr>\n",
       "      <th>2013-01-03</th>\n",
       "      <td>258.48</td>\n",
       "      <td>2750900</td>\n",
       "    </tr>\n",
       "    <tr>\n",
       "      <th>2013-01-04</th>\n",
       "      <td>259.15</td>\n",
       "      <td>1874200</td>\n",
       "    </tr>\n",
       "    <tr>\n",
       "      <th>2013-01-07</th>\n",
       "      <td>268.46</td>\n",
       "      <td>4910000</td>\n",
       "    </tr>\n",
       "    <tr>\n",
       "      <th>2013-01-08</th>\n",
       "      <td>266.38</td>\n",
       "      <td>3010700</td>\n",
       "    </tr>\n",
       "    <tr>\n",
       "      <th>2013-01-09</th>\n",
       "      <td>266.35</td>\n",
       "      <td>2265600</td>\n",
       "    </tr>\n",
       "    <tr>\n",
       "      <th>2013-01-10</th>\n",
       "      <td>265.34</td>\n",
       "      <td>2863400</td>\n",
       "    </tr>\n",
       "    <tr>\n",
       "      <th>2013-01-11</th>\n",
       "      <td>267.94</td>\n",
       "      <td>2413300</td>\n",
       "    </tr>\n",
       "    <tr>\n",
       "      <th>2013-01-14</th>\n",
       "      <td>272.73</td>\n",
       "      <td>4275000</td>\n",
       "    </tr>\n",
       "    <tr>\n",
       "      <th>2013-01-15</th>\n",
       "      <td>271.90</td>\n",
       "      <td>2326900</td>\n",
       "    </tr>\n",
       "  </tbody>\n",
       "</table>\n",
       "</div>"
      ],
      "text/plain": [
       "            Adj Close   Volume\n",
       "Date                          \n",
       "2013-01-02     257.31  3271000\n",
       "2013-01-03     258.48  2750900\n",
       "2013-01-04     259.15  1874200\n",
       "2013-01-07     268.46  4910000\n",
       "2013-01-08     266.38  3010700\n",
       "2013-01-09     266.35  2265600\n",
       "2013-01-10     265.34  2863400\n",
       "2013-01-11     267.94  2413300\n",
       "2013-01-14     272.73  4275000\n",
       "2013-01-15     271.90  2326900"
      ]
     },
     "execution_count": 224,
     "metadata": {},
     "output_type": "execute_result"
    }
   ],
   "source": [
    "import pandas as pd\n",
    "import yfinance as yf\n",
    "import numpy as np\n",
    "import sklearn\n",
    "from yahoofinancials import YahooFinancials\n",
    "AMZN = yf.download('GOLD', \n",
    "                      start='2013-01-01', \n",
    "                      progress=False)\n",
    "# AMZN = yf.download('AMZN') for all \n",
    "all_data = AMZN[['Adj Close','Volume']].round(2)\n",
    "#all_data = AMZN[['Adj Close']].round(2)\n",
    "all_data.head(10)"
   ]
  },
  {
   "cell_type": "code",
   "execution_count": 225,
   "id": "a4c09baa",
   "metadata": {},
   "outputs": [
    {
     "data": {
      "text/plain": [
       "1761"
      ]
     },
     "execution_count": 225,
     "metadata": {},
     "output_type": "execute_result"
    }
   ],
   "source": [
    "len(all_data)\n",
    "#len(all_data.columns)\n"
   ]
  },
  {
   "cell_type": "code",
   "execution_count": 226,
   "id": "b5fdceda",
   "metadata": {},
   "outputs": [
    {
     "name": "stdout",
     "output_type": "stream",
     "text": [
      "Epoch 1/30\n",
      "14/14 [==============================] - 4s 174ms/step - loss: 0.4195 - mean_absolute_percentage_error: 55344.5607 - val_loss: 0.7760 - val_mean_absolute_percentage_error: 32.1427\n",
      "Epoch 2/30\n",
      "14/14 [==============================] - 2s 150ms/step - loss: 0.0875 - mean_absolute_percentage_error: 46704.1415 - val_loss: 0.9257 - val_mean_absolute_percentage_error: 39.7753\n",
      "Epoch 3/30\n",
      "14/14 [==============================] - 2s 148ms/step - loss: 0.0495 - mean_absolute_percentage_error: 55432.5458 - val_loss: 0.5513 - val_mean_absolute_percentage_error: 25.8551\n",
      "Epoch 4/30\n",
      "14/14 [==============================] - 2s 147ms/step - loss: 0.0281 - mean_absolute_percentage_error: 57658.3419 - val_loss: 0.4558 - val_mean_absolute_percentage_error: 22.8528\n",
      "Epoch 5/30\n",
      "14/14 [==============================] - 2s 147ms/step - loss: 0.0206 - mean_absolute_percentage_error: 45875.9723 - val_loss: 0.3692 - val_mean_absolute_percentage_error: 20.2787\n",
      "Epoch 6/30\n",
      "14/14 [==============================] - 2s 155ms/step - loss: 0.0147 - mean_absolute_percentage_error: 38308.8421 - val_loss: 0.2971 - val_mean_absolute_percentage_error: 18.2217\n",
      "Epoch 7/30\n",
      "14/14 [==============================] - 2s 152ms/step - loss: 0.0123 - mean_absolute_percentage_error: 28389.7008 - val_loss: 0.2442 - val_mean_absolute_percentage_error: 16.4529\n",
      "Epoch 8/30\n",
      "14/14 [==============================] - 2s 147ms/step - loss: 0.0094 - mean_absolute_percentage_error: 23971.1367 - val_loss: 0.2043 - val_mean_absolute_percentage_error: 15.1174\n",
      "Epoch 9/30\n",
      "14/14 [==============================] - 2s 148ms/step - loss: 0.0077 - mean_absolute_percentage_error: 20826.6575 - val_loss: 0.1727 - val_mean_absolute_percentage_error: 13.9707\n",
      "Epoch 10/30\n",
      "14/14 [==============================] - 2s 147ms/step - loss: 0.0067 - mean_absolute_percentage_error: 16689.6410 - val_loss: 0.1482 - val_mean_absolute_percentage_error: 12.9686\n",
      "Epoch 11/30\n",
      "14/14 [==============================] - 2s 148ms/step - loss: 0.0061 - mean_absolute_percentage_error: 16019.6340 - val_loss: 0.1273 - val_mean_absolute_percentage_error: 12.0464\n",
      "Epoch 12/30\n",
      "14/14 [==============================] - 2s 148ms/step - loss: 0.0047 - mean_absolute_percentage_error: 15997.5296 - val_loss: 0.1125 - val_mean_absolute_percentage_error: 11.3162\n",
      "Epoch 13/30\n",
      "14/14 [==============================] - 2s 149ms/step - loss: 0.0042 - mean_absolute_percentage_error: 12909.4410 - val_loss: 0.0983 - val_mean_absolute_percentage_error: 10.6174\n",
      "Epoch 14/30\n",
      "14/14 [==============================] - 2s 147ms/step - loss: 0.0040 - mean_absolute_percentage_error: 10713.1880 - val_loss: 0.0875 - val_mean_absolute_percentage_error: 9.9446\n",
      "Epoch 15/30\n",
      "14/14 [==============================] - 2s 151ms/step - loss: 0.0036 - mean_absolute_percentage_error: 8826.1247 - val_loss: 0.0783 - val_mean_absolute_percentage_error: 9.3629\n",
      "Epoch 16/30\n",
      "14/14 [==============================] - 2s 149ms/step - loss: 0.0030 - mean_absolute_percentage_error: 10432.3127 - val_loss: 0.0712 - val_mean_absolute_percentage_error: 8.9061\n",
      "Epoch 17/30\n",
      "14/14 [==============================] - 2s 148ms/step - loss: 0.0029 - mean_absolute_percentage_error: 8419.6676 - val_loss: 0.0641 - val_mean_absolute_percentage_error: 8.4676\n",
      "Epoch 18/30\n",
      "14/14 [==============================] - 2s 145ms/step - loss: 0.0029 - mean_absolute_percentage_error: 6496.0615 - val_loss: 0.0587 - val_mean_absolute_percentage_error: 7.9739\n",
      "Epoch 19/30\n",
      "14/14 [==============================] - 2s 149ms/step - loss: 0.0025 - mean_absolute_percentage_error: 5422.1655 - val_loss: 0.0535 - val_mean_absolute_percentage_error: 7.6177\n",
      "Epoch 20/30\n",
      "14/14 [==============================] - 2s 146ms/step - loss: 0.0021 - mean_absolute_percentage_error: 5734.3378 - val_loss: 0.0499 - val_mean_absolute_percentage_error: 7.2807\n",
      "Epoch 21/30\n",
      "14/14 [==============================] - 2s 147ms/step - loss: 0.0020 - mean_absolute_percentage_error: 5230.1216 - val_loss: 0.0460 - val_mean_absolute_percentage_error: 6.9831\n",
      "Epoch 22/30\n",
      "14/14 [==============================] - 2s 154ms/step - loss: 0.0020 - mean_absolute_percentage_error: 4920.1445 - val_loss: 0.0430 - val_mean_absolute_percentage_error: 6.6718\n",
      "Epoch 23/30\n",
      "14/14 [==============================] - 2s 146ms/step - loss: 0.0019 - mean_absolute_percentage_error: 5319.0215 - val_loss: 0.0400 - val_mean_absolute_percentage_error: 6.4381\n",
      "Epoch 24/30\n",
      "14/14 [==============================] - 2s 145ms/step - loss: 0.0017 - mean_absolute_percentage_error: 4887.2693 - val_loss: 0.0375 - val_mean_absolute_percentage_error: 6.2196\n",
      "Epoch 25/30\n",
      "14/14 [==============================] - 2s 147ms/step - loss: 0.0016 - mean_absolute_percentage_error: 5325.4312 - val_loss: 0.0354 - val_mean_absolute_percentage_error: 6.0404\n",
      "Epoch 26/30\n",
      "14/14 [==============================] - 2s 147ms/step - loss: 0.0016 - mean_absolute_percentage_error: 5094.1986 - val_loss: 0.0337 - val_mean_absolute_percentage_error: 5.8521\n",
      "Epoch 27/30\n",
      "14/14 [==============================] - 2s 147ms/step - loss: 0.0016 - mean_absolute_percentage_error: 7046.3103 - val_loss: 0.0318 - val_mean_absolute_percentage_error: 5.6960\n",
      "Epoch 28/30\n",
      "14/14 [==============================] - 2s 149ms/step - loss: 0.0015 - mean_absolute_percentage_error: 5355.5607 - val_loss: 0.0303 - val_mean_absolute_percentage_error: 5.5451\n",
      "Epoch 29/30\n",
      "14/14 [==============================] - 2s 145ms/step - loss: 0.0014 - mean_absolute_percentage_error: 6186.2871 - val_loss: 0.0292 - val_mean_absolute_percentage_error: 5.4251\n",
      "Epoch 30/30\n",
      "14/14 [==============================] - 2s 146ms/step - loss: 0.0014 - mean_absolute_percentage_error: 7009.0725 - val_loss: 0.0280 - val_mean_absolute_percentage_error: 5.3083\n"
     ]
    }
   ],
   "source": [
    "import tensorflow as tf\n",
    "\n",
    "from tensorflow import keras\n",
    "from matplotlib import pyplot as plt\n",
    "\n",
    "# Read the data for the parameters from a csv file\n",
    "import urllib.request\n",
    "#Delete the first column as it is not used in the tutorial for forecasting\n",
    "\n",
    "n_steps = 512\n",
    "n_ahead = 1\n",
    "\n",
    "training = ((len(all_data)-n_steps-n_ahead)*.714)\n",
    "validation = ((len(all_data)-n_steps-n_ahead)*.856)\n",
    "\n",
    "from sklearn.preprocessing import MinMaxScaler\n",
    "sc1 = MinMaxScaler(feature_range=(0,1))\n",
    "#sc2 = MinMaxScaler(feature_range=(0,1))\n",
    "#can handle both features!\n",
    "ts_train_scaled_1 = sc1.fit_transform(all_data.iloc[:, 0:][0:int(validation)])\n",
    "ts_test_scaled_1 = sc1.transform(all_data.iloc[:, 0:][int(validation):])\n",
    "\n",
    "#data = all_data.values\n",
    "#ts_train_scaled_1 = sc1.fit_transform(all_data.iloc[:, 1][0:int(training)])\n",
    "#data = np.concatenate((ts_train_scaled_1, all_data[int(validation):].values), axis=0)\n",
    "data = np.concatenate((ts_train_scaled_1, ts_test_scaled_1), axis=0)\n",
    "\n",
    "series_reshaped =  np.array([data[i:i + (n_steps+n_ahead)].copy() for i in range(len(data) - (n_steps+n_ahead))])\n",
    "#series_reshaped2 =  np.array([all_data.values[i:i + (n_steps+n_ahead)].copy() for i in range(len(all_data.values) - (n_steps+n_ahead))])\n",
    "\n",
    "X_train = series_reshaped[:int(training), :n_steps] \n",
    "X_valid = series_reshaped[int(training):int(validation), :n_steps] \n",
    "X_test = series_reshaped[int(validation):, :n_steps] \n",
    "\n",
    "#assumes first column?\n",
    "#based on https://raw.githubusercontent.com/Carterbouley/ElectricityPricePrediction/master/re_fixed_multivariate_timeseires.csv\n",
    "#price is 1st column\n",
    "Y = np.empty(((len(all_data) - n_steps - n_ahead), n_steps, n_ahead))  \n",
    "for step_ahead in range(1, n_ahead + 1):     \n",
    "   Y[..., step_ahead - 1] =   series_reshaped[..., step_ahead:step_ahead + n_steps, 0]\n",
    "    \n",
    "Y_train = Y[:int(training)] \n",
    "Y_valid = Y[int(training):int(validation)] \n",
    "Y_test = Y[int(validation):]\n",
    "\n",
    "np.random.seed(42)\n",
    "tf.random.set_seed(42)\n",
    "\n",
    "model6 = keras.models.Sequential([\n",
    "    keras.layers.SimpleRNN(20, return_sequences=True, input_shape=[None, len(all_data.columns)]),\n",
    "    keras.layers.SimpleRNN(20, return_sequences=True),\n",
    "    keras.layers.TimeDistributed(keras.layers.Dense(n_ahead))\n",
    "])\n",
    "\n",
    "model6.compile(loss=\"mean_squared_error\", optimizer=\"adam\", metrics=['mean_absolute_percentage_error'])\n",
    "history = model6.fit(X_train, Y_train, epochs=30,batch_size=64,\n",
    "                    validation_data=(X_valid, Y_valid))\n",
    "\n"
   ]
  },
  {
   "cell_type": "code",
   "execution_count": null,
   "id": "1c34eb5e",
   "metadata": {},
   "outputs": [],
   "source": []
  },
  {
   "cell_type": "code",
   "execution_count": 227,
   "id": "a8791eeb",
   "metadata": {},
   "outputs": [
    {
     "data": {
      "image/png": "[encoded data removed]",
      "text/plain": [
       "<Figure size 432x288 with 1 Axes>"
      ]
     },
     "metadata": {
      "needs_background": "light"
     },
     "output_type": "display_data"
    }
   ],
   "source": [
    "def plot_learning_curves(loss, val_loss):\n",
    "    plt.plot(np.arange(len(loss)) + 0.5, loss, \"b.\", label=\"Training loss\")\n",
    "    plt.plot(np.arange(len(val_loss)) + 1, val_loss, \"r-\", label=\"Validation loss\")\n",
    "    plt.gca().xaxis.set_major_locator(mpl.ticker.MaxNLocator(integer=True))\n",
    "    plt.legend(fontsize=14)\n",
    "    plt.xlabel(\"Epochs\")\n",
    "    plt.ylabel(\"Loss\")\n",
    "    plt.grid(True)\n",
    "\n",
    "plot_learning_curves(history.history[\"loss\"], history.history[\"val_loss\"])\n",
    "plt.show()"
   ]
  },
  {
   "cell_type": "code",
   "execution_count": null,
   "id": "934b398b",
   "metadata": {},
   "outputs": [],
   "source": []
  },
  {
   "cell_type": "code",
   "execution_count": 228,
   "id": "b69f61ad",
   "metadata": {},
   "outputs": [],
   "source": [
    "# - scaler   = the scaler object (it needs an inverse_transform method)\n",
    "# - data     = the data to be inverse transformed as a Series, ndarray, ... \n",
    "#              (a 1d object you can assign to a df column)\n",
    "# - ftName   = the name of the column to which the data belongs\n",
    "# - colNames = all column names of the data on which scaler was fit \n",
    "#              (necessary because scaler will only accept a df of the same shape as the one it was fit on)\n",
    "def invTransform(scaler, data, colName, colNames):\n",
    "    dummy = pd.DataFrame(np.zeros((len(data), len(colNames))), columns=colNames)\n",
    "    dummy[colName] = data\n",
    "    dummy = pd.DataFrame(scaler.inverse_transform(dummy), columns=colNames)\n",
    "    return dummy[colName].values\n"
   ]
  },
  {
   "cell_type": "code",
   "execution_count": 229,
   "id": "2ad4be19",
   "metadata": {},
   "outputs": [],
   "source": [
    "Y_pred = model6.predict(X_test)\n",
    "\n",
    "last_list=[]\n",
    "\n",
    "for i in range (0, len(Y_pred)):\n",
    "  last_list.append((Y_pred[i][0][n_ahead-1]))\n",
    "    \n",
    "actual = pd.DataFrame((sc1.inverse_transform(X_test[:,0])))\n",
    "actual.rename(columns = {0:'actual'}, inplace = True)\n",
    "actual['predictions'] = last_list\n",
    "actual['predictions'] = invTransform(sc1,actual[\"predictions\"],\"Adj Close\",all_data.columns)\n",
    "actual['difference'] = (actual['predictions'] - actual['actual']).abs()\n",
    "actual['difference_percentage'] = ((actual['difference'])/(actual['actual']))*100\n"
   ]
  },
  {
   "cell_type": "code",
   "execution_count": null,
   "id": "a52c64d4",
   "metadata": {},
   "outputs": [],
   "source": []
  },
  {
   "cell_type": "code",
   "execution_count": 230,
   "id": "91c88605",
   "metadata": {},
   "outputs": [
    {
     "data": {
      "text/plain": [
       "<matplotlib.collections.PathCollection at 0x7f524a9c5df0>"
      ]
     },
     "execution_count": 230,
     "metadata": {},
     "output_type": "execute_result"
    },
    {
     "data": {
      "image/png": "[encoded data removed]",
      "text/plain": [
       "<Figure size 432x288 with 1 Axes>"
      ]
     },
     "metadata": {
      "needs_background": "light"
     },
     "output_type": "display_data"
    }
   ],
   "source": [
    "import matplotlib.pyplot as plt\n",
    "plt.scatter(actual[\"actual\"],actual[\"predictions\"])"
   ]
  },
  {
   "cell_type": "code",
   "execution_count": 231,
   "id": "17db7518",
   "metadata": {},
   "outputs": [
    {
     "data": {
      "image/png": "[encoded data removed]",
      "text/plain": [
       "<Figure size 432x288 with 1 Axes>"
      ]
     },
     "metadata": {
      "needs_background": "light"
     },
     "output_type": "display_data"
    }
   ],
   "source": [
    "from matplotlib import pyplot as plt\n",
    "plt.plot(actual[\"actual\"],label=\"actual\")\n",
    "plt.plot(actual[\"predictions\"],label=\"predictions\")\n",
    "plt.legend()\n",
    "plt.show()"
   ]
  }
 ],
 "metadata": {
  "kernelspec": {
   "display_name": "Python 3",
   "language": "python",
   "name": "python3"
  },
  "language_info": {
   "codemirror_mode": {
    "name": "ipython",
    "version": 3
   },
   "file_extension": ".py",
   "mimetype": "text/x-python",
   "name": "python",
   "nbconvert_exporter": "python",
   "pygments_lexer": "ipython3",
   "version": "3.9.2"
  }
 },
 "nbformat": 4,
 "nbformat_minor": 5
}
