{
 "cells": [
  {
   "cell_type": "code",
   "execution_count": 222,
   "id": "f890205f",
   "metadata": {},
   "outputs": [],
   "source": [
    "#using these guides\n",
    "#https://medium.com/swlh/a-technical-guide-on-rnn-lstm-gru-for-stock-price-prediction-bce2f7f30346\n",
    "#https://github.com/dataman-git/codes_for_articles/blob/master/From%20regression%20to%20RNN.ipynb\n",
    "#https://datascience.stackexchange.com/questions/93180/trying-to-extend-this-code-to-include-additional-feature-volume-in-addition-to\n",
    "#https://datascience.stackexchange.com/questions/91147/problems-to-understand-how-to-create-the-input-data-for-time-series-forecasting/92395?noredirect=1#comment97317_92395\n",
    "#https://towardsdatascience.com/recurrent-neural-networks-for-electricity-price-prediction-a26f8411ea44\n",
    "#https://github.com/Carterbouley/ElectricityPricePrediction\n",
    "#https://machinelearningmastery.com/multivariate-time-series-forecasting-lstms-keras/"
   ]
  },
  {
   "cell_type": "code",
   "execution_count": 223,
   "id": "7c443bed",
   "metadata": {},
   "outputs": [],
   "source": [
    "import matplotlib as mpl\n",
    "import matplotlib.pyplot as plt"
   ]
  },
  {
   "cell_type": "code",
   "execution_count": 224,
   "id": "25e47cfd",
   "metadata": {},
   "outputs": [
    {
     "data": {
      "text/html": [
       "<div>\n",
       "<style scoped>\n",
       "    .dataframe tbody tr th:only-of-type {\n",
       "        vertical-align: middle;\n",
       "    }\n",
       "\n",
       "    .dataframe tbody tr th {\n",
       "        vertical-align: top;\n",
       "    }\n",
       "\n",
       "    .dataframe thead th {\n",
       "        text-align: right;\n",
       "    }\n",
       "</style>\n",
       "<table border=\"1\" class=\"dataframe\">\n",
       "  <thead>\n",
       "    <tr style=\"text-align: right;\">\n",
       "      <th></th>\n",
       "      <th>Adj Close</th>\n",
       "      <th>Volume</th>\n",
       "    </tr>\n",
       "    <tr>\n",
       "      <th>Date</th>\n",
       "      <th></th>\n",
       "      <th></th>\n",
       "    </tr>\n",
       "  </thead>\n",
       "  <tbody>\n",
       "    <tr>\n",
       "      <th>2013-01-02</th>\n",
       "      <td>257.31</td>\n",
       "      <td>3271000</td>\n",
       "    </tr>\n",
       "    <tr>\n",
       "      <th>2013-01-03</th>\n",
       "      <td>258.48</td>\n",
       "      <td>2750900</td>\n",
       "    </tr>\n",
       "    <tr>\n",
       "      <th>2013-01-04</th>\n",
       "      <td>259.15</td>\n",
       "      <td>1874200</td>\n",
       "    </tr>\n",
       "    <tr>\n",
       "      <th>2013-01-07</th>\n",
       "      <td>268.46</td>\n",
       "      <td>4910000</td>\n",
       "    </tr>\n",
       "    <tr>\n",
       "      <th>2013-01-08</th>\n",
       "      <td>266.38</td>\n",
       "      <td>3010700</td>\n",
       "    </tr>\n",
       "    <tr>\n",
       "      <th>2013-01-09</th>\n",
       "      <td>266.35</td>\n",
       "      <td>2265600</td>\n",
       "    </tr>\n",
       "    <tr>\n",
       "      <th>2013-01-10</th>\n",
       "      <td>265.34</td>\n",
       "      <td>2863400</td>\n",
       "    </tr>\n",
       "    <tr>\n",
       "      <th>2013-01-11</th>\n",
       "      <td>267.94</td>\n",
       "      <td>2413300</td>\n",
       "    </tr>\n",
       "    <tr>\n",
       "      <th>2013-01-14</th>\n",
       "      <td>272.73</td>\n",
       "      <td>4275000</td>\n",
       "    </tr>\n",
       "    <tr>\n",
       "      <th>2013-01-15</th>\n",
       "      <td>271.90</td>\n",
       "      <td>2326900</td>\n",
       "    </tr>\n",
       "  </tbody>\n",
       "</table>\n",
       "</div>"
      ],
      "text/plain": [
       "            Adj Close   Volume\n",
       "Date                          \n",
       "2013-01-02     257.31  3271000\n",
       "2013-01-03     258.48  2750900\n",
       "2013-01-04     259.15  1874200\n",
       "2013-01-07     268.46  4910000\n",
       "2013-01-08     266.38  3010700\n",
       "2013-01-09     266.35  2265600\n",
       "2013-01-10     265.34  2863400\n",
       "2013-01-11     267.94  2413300\n",
       "2013-01-14     272.73  4275000\n",
       "2013-01-15     271.90  2326900"
      ]
     },
     "execution_count": 224,
     "metadata": {},
     "output_type": "execute_result"
    }
   ],
   "source": [
    "import pandas as pd\n",
    "import yfinance as yf\n",
    "import numpy as np\n",
    "import sklearn\n",
    "from yahoofinancials import YahooFinancials\n",
    "AMZN = yf.download('GOLD', \n",
    "                      start='2013-01-01', \n",
    "                      progress=False)\n",
    "# AMZN = yf.download('AMZN') for all \n",
    "all_data = AMZN[['Adj Close','Volume']].round(2)\n",
    "#all_data = AMZN[['Adj Close']].round(2)\n",
    "all_data.head(10)"
   ]
  },
  {
   "cell_type": "code",
   "execution_count": 225,
   "id": "791ec495",
   "metadata": {},
   "outputs": [
    {
     "data": {
      "text/plain": [
       "1761"
      ]
     },
     "execution_count": 225,
     "metadata": {},
     "output_type": "execute_result"
    }
   ],
   "source": [
    "len(all_data)\n",
    "#len(all_data.columns)\n"
   ]
  },
  {
   "cell_type": "code",
   "execution_count": 240,
   "id": "eb8e09d0",
   "metadata": {},
   "outputs": [
    {
     "name": "stdout",
     "output_type": "stream",
     "text": [
      "Epoch 1/30\n",
      "14/14 [==============================] - 3s 173ms/step - loss: 1.5805 - mean_absolute_percentage_error: 125.1909 - val_loss: 10.8873 - val_mean_absolute_percentage_error: 52.7970\n",
      "Epoch 2/30\n",
      "14/14 [==============================] - 2s 153ms/step - loss: 0.7635 - mean_absolute_percentage_error: 104.0581 - val_loss: 9.6476 - val_mean_absolute_percentage_error: 47.6621\n",
      "Epoch 3/30\n",
      "14/14 [==============================] - 2s 156ms/step - loss: 0.4693 - mean_absolute_percentage_error: 61.0109 - val_loss: 7.7471 - val_mean_absolute_percentage_error: 39.6941\n",
      "Epoch 4/30\n",
      "14/14 [==============================] - 2s 147ms/step - loss: 0.2972 - mean_absolute_percentage_error: 45.1159 - val_loss: 5.9954 - val_mean_absolute_percentage_error: 32.2476\n",
      "Epoch 5/30\n",
      "14/14 [==============================] - 2s 150ms/step - loss: 0.2222 - mean_absolute_percentage_error: 35.6706 - val_loss: 4.7452 - val_mean_absolute_percentage_error: 27.0248\n",
      "Epoch 6/30\n",
      "14/14 [==============================] - 2s 151ms/step - loss: 0.1523 - mean_absolute_percentage_error: 29.4600 - val_loss: 3.9276 - val_mean_absolute_percentage_error: 24.0378\n",
      "Epoch 7/30\n",
      "14/14 [==============================] - 2s 148ms/step - loss: 0.1284 - mean_absolute_percentage_error: 27.1875 - val_loss: 3.3401 - val_mean_absolute_percentage_error: 22.1228\n",
      "Epoch 8/30\n",
      "14/14 [==============================] - 2s 151ms/step - loss: 0.0972 - mean_absolute_percentage_error: 24.8209 - val_loss: 2.9271 - val_mean_absolute_percentage_error: 20.4511\n",
      "Epoch 9/30\n",
      "14/14 [==============================] - 2s 153ms/step - loss: 0.0783 - mean_absolute_percentage_error: 24.1754 - val_loss: 2.6060 - val_mean_absolute_percentage_error: 19.0913\n",
      "Epoch 10/30\n",
      "14/14 [==============================] - 2s 156ms/step - loss: 0.0703 - mean_absolute_percentage_error: 22.8389 - val_loss: 2.3510 - val_mean_absolute_percentage_error: 17.9173\n",
      "Epoch 11/30\n",
      "14/14 [==============================] - 2s 152ms/step - loss: 0.0678 - mean_absolute_percentage_error: 21.4725 - val_loss: 2.1249 - val_mean_absolute_percentage_error: 16.8380\n",
      "Epoch 12/30\n",
      "14/14 [==============================] - 2s 151ms/step - loss: 0.0489 - mean_absolute_percentage_error: 20.8604 - val_loss: 1.9586 - val_mean_absolute_percentage_error: 16.0359\n",
      "Epoch 13/30\n",
      "14/14 [==============================] - 2s 151ms/step - loss: 0.0469 - mean_absolute_percentage_error: 20.0150 - val_loss: 1.7965 - val_mean_absolute_percentage_error: 15.2793\n",
      "Epoch 14/30\n",
      "14/14 [==============================] - 2s 149ms/step - loss: 0.0464 - mean_absolute_percentage_error: 19.3635 - val_loss: 1.6575 - val_mean_absolute_percentage_error: 14.5869\n",
      "Epoch 15/30\n",
      "14/14 [==============================] - 2s 149ms/step - loss: 0.0436 - mean_absolute_percentage_error: 18.9520 - val_loss: 1.5379 - val_mean_absolute_percentage_error: 13.9915\n",
      "Epoch 16/30\n",
      "14/14 [==============================] - 2s 153ms/step - loss: 0.0355 - mean_absolute_percentage_error: 18.6132 - val_loss: 1.4430 - val_mean_absolute_percentage_error: 13.4884\n",
      "Epoch 17/30\n",
      "14/14 [==============================] - 2s 155ms/step - loss: 0.0361 - mean_absolute_percentage_error: 17.5728 - val_loss: 1.3481 - val_mean_absolute_percentage_error: 12.9746\n",
      "Epoch 18/30\n",
      "14/14 [==============================] - 2s 153ms/step - loss: 0.0396 - mean_absolute_percentage_error: 17.4467 - val_loss: 1.2598 - val_mean_absolute_percentage_error: 12.4446\n",
      "Epoch 19/30\n",
      "14/14 [==============================] - 2s 150ms/step - loss: 0.0325 - mean_absolute_percentage_error: 17.4255 - val_loss: 1.1869 - val_mean_absolute_percentage_error: 12.0338\n",
      "Epoch 20/30\n",
      "14/14 [==============================] - 2s 148ms/step - loss: 0.0266 - mean_absolute_percentage_error: 17.0464 - val_loss: 1.1264 - val_mean_absolute_percentage_error: 11.6366\n",
      "Epoch 21/30\n",
      "14/14 [==============================] - 2s 149ms/step - loss: 0.0253 - mean_absolute_percentage_error: 16.6041 - val_loss: 1.0643 - val_mean_absolute_percentage_error: 11.2598\n",
      "Epoch 22/30\n",
      "14/14 [==============================] - 2s 157ms/step - loss: 0.0258 - mean_absolute_percentage_error: 16.3202 - val_loss: 1.0064 - val_mean_absolute_percentage_error: 10.8777\n",
      "Epoch 23/30\n",
      "14/14 [==============================] - 2s 153ms/step - loss: 0.0236 - mean_absolute_percentage_error: 15.6287 - val_loss: 0.9555 - val_mean_absolute_percentage_error: 10.5453\n",
      "Epoch 24/30\n",
      "14/14 [==============================] - 2s 150ms/step - loss: 0.0219 - mean_absolute_percentage_error: 15.6068 - val_loss: 0.9083 - val_mean_absolute_percentage_error: 10.2115\n",
      "Epoch 25/30\n",
      "14/14 [==============================] - 2s 152ms/step - loss: 0.0200 - mean_absolute_percentage_error: 15.1189 - val_loss: 0.8686 - val_mean_absolute_percentage_error: 9.9288\n",
      "Epoch 26/30\n",
      "14/14 [==============================] - 2s 150ms/step - loss: 0.0207 - mean_absolute_percentage_error: 15.2634 - val_loss: 0.8299 - val_mean_absolute_percentage_error: 9.6379\n",
      "Epoch 27/30\n",
      "14/14 [==============================] - 2s 149ms/step - loss: 0.0193 - mean_absolute_percentage_error: 14.6446 - val_loss: 0.7924 - val_mean_absolute_percentage_error: 9.3726\n",
      "Epoch 28/30\n",
      "14/14 [==============================] - 2s 148ms/step - loss: 0.0187 - mean_absolute_percentage_error: 14.2372 - val_loss: 0.7586 - val_mean_absolute_percentage_error: 9.1189\n",
      "Epoch 29/30\n",
      "14/14 [==============================] - 2s 148ms/step - loss: 0.0162 - mean_absolute_percentage_error: 14.2358 - val_loss: 0.7305 - val_mean_absolute_percentage_error: 8.9068\n",
      "Epoch 30/30\n",
      "14/14 [==============================] - 2s 149ms/step - loss: 0.0162 - mean_absolute_percentage_error: 13.7298 - val_loss: 0.7030 - val_mean_absolute_percentage_error: 8.6843\n"
     ]
    }
   ],
   "source": [
    "import tensorflow as tf\n",
    "\n",
    "from tensorflow import keras\n",
    "from matplotlib import pyplot as plt\n",
    "\n",
    "# Read the data for the parameters from a csv file\n",
    "import urllib.request\n",
    "#Delete the first column as it is not used in the tutorial for forecasting\n",
    "\n",
    "n_steps = 512\n",
    "n_ahead = 1\n",
    "\n",
    "training = ((len(all_data)-n_steps-n_ahead)*.714)\n",
    "validation = ((len(all_data)-n_steps-n_ahead)*.856)\n",
    "\n",
    "#can handle both features!\n",
    "#from sklearn.preprocessing import MinMaxScaler\n",
    "#sc1 = MinMaxScaler(feature_range=(0,1))\n",
    "#from sklearn.preprocessing import RobustScaler\n",
    "#sc1 = RobustScaler().fit(all_data.iloc[:, 0:][0:int(validation)])\n",
    "\n",
    "from sklearn.preprocessing import StandardScaler\n",
    "sc1 = StandardScaler().fit(all_data.iloc[:, 0:][0:int(validation)])\n",
    "ts_train_scaled_1 = sc1.fit_transform(all_data.iloc[:, 0:][0:int(validation)])\n",
    "ts_test_scaled_1 = sc1.transform(all_data.iloc[:, 0:][int(validation):])\n",
    "\n",
    "#data = all_data.values\n",
    "#ts_train_scaled_1 = sc1.fit_transform(all_data.iloc[:, 1][0:int(training)])\n",
    "#data = np.concatenate((ts_train_scaled_1, all_data[int(validation):].values), axis=0)\n",
    "data = np.concatenate((ts_train_scaled_1, ts_test_scaled_1), axis=0)\n",
    "\n",
    "series_reshaped =  np.array([data[i:i + (n_steps+n_ahead)].copy() for i in range(len(data) - (n_steps+n_ahead))])\n",
    "#series_reshaped2 =  np.array([all_data.values[i:i + (n_steps+n_ahead)].copy() for i in range(len(all_data.values) - (n_steps+n_ahead))])\n",
    "\n",
    "X_train = series_reshaped[:int(training), :n_steps] \n",
    "X_valid = series_reshaped[int(training):int(validation), :n_steps] \n",
    "X_test = series_reshaped[int(validation):, :n_steps] \n",
    "\n",
    "#assumes first column?\n",
    "#based on https://raw.githubusercontent.com/Carterbouley/ElectricityPricePrediction/master/re_fixed_multivariate_timeseires.csv\n",
    "#price is 1st column\n",
    "Y = np.empty(((len(all_data) - n_steps - n_ahead), n_steps, n_ahead))  \n",
    "for step_ahead in range(1, n_ahead + 1):     \n",
    "   Y[..., step_ahead - 1] =   series_reshaped[..., step_ahead:step_ahead + n_steps, 0]\n",
    "    \n",
    "Y_train = Y[:int(training)] \n",
    "Y_valid = Y[int(training):int(validation)] \n",
    "Y_test = Y[int(validation):]\n",
    "\n",
    "np.random.seed(42)\n",
    "tf.random.set_seed(42)\n",
    "\n",
    "model6 = keras.models.Sequential([\n",
    "    keras.layers.SimpleRNN(20, return_sequences=True, input_shape=[None, len(all_data.columns)]),\n",
    "    keras.layers.SimpleRNN(20, return_sequences=True),\n",
    "    keras.layers.TimeDistributed(keras.layers.Dense(n_ahead))\n",
    "])\n",
    "\n",
    "model6.compile(loss=\"mean_squared_error\", optimizer=\"adam\", metrics=['mean_absolute_percentage_error'])\n",
    "history = model6.fit(X_train, Y_train, epochs=30,batch_size=64,\n",
    "                    validation_data=(X_valid, Y_valid))\n",
    "\n"
   ]
  },
  {
   "cell_type": "code",
   "execution_count": 233,
   "id": "58c310b9",
   "metadata": {},
   "outputs": [
    {
     "data": {
      "text/plain": [
       "RobustScaler()"
      ]
     },
     "execution_count": 233,
     "metadata": {},
     "output_type": "execute_result"
    }
   ],
   "source": []
  },
  {
   "cell_type": "code",
   "execution_count": 241,
   "id": "3f0ab21a",
   "metadata": {},
   "outputs": [
    {
     "data": {
      "image/png": "[encoded data removed]",
      "text/plain": [
       "<Figure size 432x288 with 1 Axes>"
      ]
     },
     "metadata": {
      "needs_background": "light"
     },
     "output_type": "display_data"
    }
   ],
   "source": [
    "def plot_learning_curves(loss, val_loss):\n",
    "    plt.plot(np.arange(len(loss)) + 0.5, loss, \"b.\", label=\"Training loss\")\n",
    "    plt.plot(np.arange(len(val_loss)) + 1, val_loss, \"r-\", label=\"Validation loss\")\n",
    "    plt.gca().xaxis.set_major_locator(mpl.ticker.MaxNLocator(integer=True))\n",
    "    plt.legend(fontsize=14)\n",
    "    plt.xlabel(\"Epochs\")\n",
    "    plt.ylabel(\"Loss\")\n",
    "    plt.grid(True)\n",
    "\n",
    "plot_learning_curves(history.history[\"loss\"], history.history[\"val_loss\"])\n",
    "plt.show()"
   ]
  },
  {
   "cell_type": "code",
   "execution_count": null,
   "id": "2a9ddd86",
   "metadata": {},
   "outputs": [],
   "source": []
  },
  {
   "cell_type": "code",
   "execution_count": 242,
   "id": "35906cb0",
   "metadata": {},
   "outputs": [],
   "source": [
    "# - scaler   = the scaler object (it needs an inverse_transform method)\n",
    "# - data     = the data to be inverse transformed as a Series, ndarray, ... \n",
    "#              (a 1d object you can assign to a df column)\n",
    "# - ftName   = the name of the column to which the data belongs\n",
    "# - colNames = all column names of the data on which scaler was fit \n",
    "#              (necessary because scaler will only accept a df of the same shape as the one it was fit on)\n",
    "def invTransform(scaler, data, colName, colNames):\n",
    "    dummy = pd.DataFrame(np.zeros((len(data), len(colNames))), columns=colNames)\n",
    "    dummy[colName] = data\n",
    "    dummy = pd.DataFrame(scaler.inverse_transform(dummy), columns=colNames)\n",
    "    return dummy[colName].values\n"
   ]
  },
  {
   "cell_type": "code",
   "execution_count": 243,
   "id": "22269d87",
   "metadata": {},
   "outputs": [],
   "source": [
    "Y_pred = model6.predict(X_test)\n",
    "\n",
    "last_list=[]\n",
    "\n",
    "for i in range (0, len(Y_pred)):\n",
    "  last_list.append((Y_pred[i][0][n_ahead-1]))\n",
    "    \n",
    "actual = pd.DataFrame((sc1.inverse_transform(X_test[:,0])))\n",
    "actual.rename(columns = {0:'actual'}, inplace = True)\n",
    "actual['predictions'] = last_list\n",
    "actual['predictions'] = invTransform(sc1,actual[\"predictions\"],\"Adj Close\",all_data.columns)\n",
    "actual['difference'] = (actual['predictions'] - actual['actual']).abs()\n",
    "actual['difference_percentage'] = ((actual['difference'])/(actual['actual']))*100\n"
   ]
  },
  {
   "cell_type": "code",
   "execution_count": null,
   "id": "01e29795",
   "metadata": {},
   "outputs": [],
   "source": []
  },
  {
   "cell_type": "code",
   "execution_count": 244,
   "id": "4f966e58",
   "metadata": {},
   "outputs": [
    {
     "data": {
      "text/plain": [
       "<matplotlib.collections.PathCollection at 0x7f5222aa9940>"
      ]
     },
     "execution_count": 244,
     "metadata": {},
     "output_type": "execute_result"
    },
    {
     "data": {
      "image/png": "[encoded data removed]",
      "text/plain": [
       "<Figure size 432x288 with 1 Axes>"
      ]
     },
     "metadata": {
      "needs_background": "light"
     },
     "output_type": "display_data"
    }
   ],
   "source": [
    "import matplotlib.pyplot as plt\n",
    "plt.scatter(actual[\"actual\"],actual[\"predictions\"])"
   ]
  },
  {
   "cell_type": "code",
   "execution_count": 245,
   "id": "7b9321da",
   "metadata": {},
   "outputs": [
    {
     "data": {
      "image/png": "[encoded data removed]",
      "text/plain": [
       "<Figure size 432x288 with 1 Axes>"
      ]
     },
     "metadata": {
      "needs_background": "light"
     },
     "output_type": "display_data"
    }
   ],
   "source": [
    "from matplotlib import pyplot as plt\n",
    "plt.plot(actual[\"actual\"],label=\"actual\")\n",
    "plt.plot(actual[\"predictions\"],label=\"predictions\")\n",
    "plt.legend()\n",
    "plt.show()"
   ]
  }
 ],
 "metadata": {
  "kernelspec": {
   "display_name": "Python 3",
   "language": "python",
   "name": "python3"
  },
  "language_info": {
   "codemirror_mode": {
    "name": "ipython",
    "version": 3
   },
   "file_extension": ".py",
   "mimetype": "text/x-python",
   "name": "python",
   "nbconvert_exporter": "python",
   "pygments_lexer": "ipython3",
   "version": "3.9.2"
  }
 },
 "nbformat": 4,
 "nbformat_minor": 5
}
