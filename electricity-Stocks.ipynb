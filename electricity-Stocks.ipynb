{
 "cells": [
  {
   "cell_type": "code",
   "execution_count": null,
   "id": "1b030e61",
   "metadata": {},
   "outputs": [],
   "source": [
    "#using these guides\n",
    "#https://datascience.stackexchange.com/questions/93180/trying-to-extend-this-code-to-include-additional-feature-volume-in-addition-to\n",
    "#https://datascience.stackexchange.com/questions/91147/problems-to-understand-how-to-create-the-input-data-for-time-series-forecasting/92395?noredirect=1#comment97317_92395\n",
    "#https://towardsdatascience.com/recurrent-neural-networks-for-electricity-price-prediction-a26f8411ea44\n",
    "#https://github.com/Carterbouley/ElectricityPricePrediction\n",
    "#https://machinelearningmastery.com/multivariate-time-series-forecasting-lstms-keras/"
   ]
  },
  {
   "cell_type": "code",
   "execution_count": 29,
   "id": "43b662a8",
   "metadata": {},
   "outputs": [],
   "source": [
    "import matplotlib as mpl\n",
    "import matplotlib.pyplot as plt"
   ]
  },
  {
   "cell_type": "code",
   "execution_count": 3,
   "id": "20fca5ca",
   "metadata": {},
   "outputs": [
    {
     "data": {
      "text/html": [
       "<div>\n",
       "<style scoped>\n",
       "    .dataframe tbody tr th:only-of-type {\n",
       "        vertical-align: middle;\n",
       "    }\n",
       "\n",
       "    .dataframe tbody tr th {\n",
       "        vertical-align: top;\n",
       "    }\n",
       "\n",
       "    .dataframe thead th {\n",
       "        text-align: right;\n",
       "    }\n",
       "</style>\n",
       "<table border=\"1\" class=\"dataframe\">\n",
       "  <thead>\n",
       "    <tr style=\"text-align: right;\">\n",
       "      <th></th>\n",
       "      <th>Adj Close</th>\n",
       "      <th>Volume</th>\n",
       "    </tr>\n",
       "    <tr>\n",
       "      <th>Date</th>\n",
       "      <th></th>\n",
       "      <th></th>\n",
       "    </tr>\n",
       "  </thead>\n",
       "  <tbody>\n",
       "    <tr>\n",
       "      <th>2013-01-02</th>\n",
       "      <td>257.31</td>\n",
       "      <td>3271000</td>\n",
       "    </tr>\n",
       "    <tr>\n",
       "      <th>2013-01-03</th>\n",
       "      <td>258.48</td>\n",
       "      <td>2750900</td>\n",
       "    </tr>\n",
       "    <tr>\n",
       "      <th>2013-01-04</th>\n",
       "      <td>259.15</td>\n",
       "      <td>1874200</td>\n",
       "    </tr>\n",
       "    <tr>\n",
       "      <th>2013-01-07</th>\n",
       "      <td>268.46</td>\n",
       "      <td>4910000</td>\n",
       "    </tr>\n",
       "    <tr>\n",
       "      <th>2013-01-08</th>\n",
       "      <td>266.38</td>\n",
       "      <td>3010700</td>\n",
       "    </tr>\n",
       "    <tr>\n",
       "      <th>2013-01-09</th>\n",
       "      <td>266.35</td>\n",
       "      <td>2265600</td>\n",
       "    </tr>\n",
       "    <tr>\n",
       "      <th>2013-01-10</th>\n",
       "      <td>265.34</td>\n",
       "      <td>2863400</td>\n",
       "    </tr>\n",
       "    <tr>\n",
       "      <th>2013-01-11</th>\n",
       "      <td>267.94</td>\n",
       "      <td>2413300</td>\n",
       "    </tr>\n",
       "    <tr>\n",
       "      <th>2013-01-14</th>\n",
       "      <td>272.73</td>\n",
       "      <td>4275000</td>\n",
       "    </tr>\n",
       "    <tr>\n",
       "      <th>2013-01-15</th>\n",
       "      <td>271.90</td>\n",
       "      <td>2326900</td>\n",
       "    </tr>\n",
       "  </tbody>\n",
       "</table>\n",
       "</div>"
      ],
      "text/plain": [
       "            Adj Close   Volume\n",
       "Date                          \n",
       "2013-01-02     257.31  3271000\n",
       "2013-01-03     258.48  2750900\n",
       "2013-01-04     259.15  1874200\n",
       "2013-01-07     268.46  4910000\n",
       "2013-01-08     266.38  3010700\n",
       "2013-01-09     266.35  2265600\n",
       "2013-01-10     265.34  2863400\n",
       "2013-01-11     267.94  2413300\n",
       "2013-01-14     272.73  4275000\n",
       "2013-01-15     271.90  2326900"
      ]
     },
     "execution_count": 3,
     "metadata": {},
     "output_type": "execute_result"
    }
   ],
   "source": [
    "import pandas as pd\n",
    "import yfinance as yf\n",
    "import numpy as np\n",
    "import sklearn\n",
    "from yahoofinancials import YahooFinancials\n",
    "AMZN = yf.download('AMZN', \n",
    "                      start='2013-01-01', \n",
    "                      end='2019-12-31', \n",
    "                      progress=False)\n",
    "# AMZN = yf.download('AMZN') for all \n",
    "all_data = AMZN[['Adj Close','Volume']].round(2)\n",
    "all_data.head(10)"
   ]
  },
  {
   "cell_type": "code",
   "execution_count": 23,
   "id": "b10435e6",
   "metadata": {},
   "outputs": [
    {
     "data": {
      "text/plain": [
       "1569"
      ]
     },
     "execution_count": 23,
     "metadata": {},
     "output_type": "execute_result"
    }
   ],
   "source": [
    "len(all_data)\n",
    "#len(all_data.columns)\n"
   ]
  },
  {
   "cell_type": "code",
   "execution_count": 27,
   "id": "97b19922",
   "metadata": {},
   "outputs": [
    {
     "name": "stdout",
     "output_type": "stream",
     "text": [
      "Epoch 1/10\n",
      "18/18 [==============================] - 2s 67ms/step - loss: 363006.3405 - mean_absolute_percentage_error: 99.9785 - val_loss: 2325305.0000 - val_mean_absolute_percentage_error: 99.9685\n",
      "Epoch 2/10\n",
      "18/18 [==============================] - 1s 57ms/step - loss: 376184.5312 - mean_absolute_percentage_error: 99.8803 - val_loss: 2323973.2500 - val_mean_absolute_percentage_error: 99.9377\n",
      "Epoch 3/10\n",
      "18/18 [==============================] - 1s 52ms/step - loss: 374857.1859 - mean_absolute_percentage_error: 99.7813 - val_loss: 2322506.0000 - val_mean_absolute_percentage_error: 99.9036\n",
      "Epoch 4/10\n",
      "18/18 [==============================] - 1s 51ms/step - loss: 364866.3980 - mean_absolute_percentage_error: 99.6733 - val_loss: 2321062.2500 - val_mean_absolute_percentage_error: 99.8701\n",
      "Epoch 5/10\n",
      "18/18 [==============================] - 1s 52ms/step - loss: 380415.4523 - mean_absolute_percentage_error: 99.5746 - val_loss: 2319696.7500 - val_mean_absolute_percentage_error: 99.8384\n",
      "Epoch 6/10\n",
      "18/18 [==============================] - 1s 51ms/step - loss: 376231.2319 - mean_absolute_percentage_error: 99.4803 - val_loss: 2318384.5000 - val_mean_absolute_percentage_error: 99.8080\n",
      "Epoch 7/10\n",
      "18/18 [==============================] - 1s 51ms/step - loss: 376333.5197 - mean_absolute_percentage_error: 99.3849 - val_loss: 2317111.5000 - val_mean_absolute_percentage_error: 99.7785\n",
      "Epoch 8/10\n",
      "18/18 [==============================] - 1s 52ms/step - loss: 385443.8026 - mean_absolute_percentage_error: 99.2996 - val_loss: 2315858.2500 - val_mean_absolute_percentage_error: 99.7494\n",
      "Epoch 9/10\n",
      "18/18 [==============================] - 1s 51ms/step - loss: 363169.5641 - mean_absolute_percentage_error: 99.1942 - val_loss: 2314633.2500 - val_mean_absolute_percentage_error: 99.7210\n",
      "Epoch 10/10\n",
      "18/18 [==============================] - 1s 55ms/step - loss: 374170.8240 - mean_absolute_percentage_error: 99.1136 - val_loss: 2313410.5000 - val_mean_absolute_percentage_error: 99.6926\n"
     ]
    }
   ],
   "source": [
    "import tensorflow as tf\n",
    "\n",
    "from tensorflow import keras\n",
    "from matplotlib import pyplot as plt\n",
    "\n",
    "# Read the data for the parameters from a csv file\n",
    "import urllib.request\n",
    "#Delete the first column as it is not used in the tutorial for forecasting\n",
    "\n",
    "data = all_data.values\n",
    "\n",
    "n_steps = 168\n",
    "n_ahead = 24\n",
    "\n",
    "training = ((len(all_data)-n_steps-n_ahead)*.714)\n",
    "validation = ((len(all_data)-n_steps-n_ahead)*.856)\n",
    "\n",
    "series_reshaped =  np.array([data[i:i + (n_steps+n_ahead)].copy() for i in range(len(data) - (n_steps+n_ahead))])\n",
    "\n",
    "\n",
    "X_train = series_reshaped[:int(training), :n_steps] \n",
    "X_valid = series_reshaped[int(training):int(validation), :n_steps] \n",
    "X_test = series_reshaped[int(validation):, :n_steps] \n",
    "Y = np.empty(((len(all_data) - n_steps - n_ahead), n_steps, n_ahead))  \n",
    "for step_ahead in range(1, n_ahead + 1):     \n",
    "   Y[..., step_ahead - 1] =   series_reshaped[..., step_ahead:step_ahead + n_steps, 0]\n",
    " \n",
    "Y_train = Y[:int(training)] \n",
    "Y_valid = Y[int(training):int(validation)] \n",
    "Y_test = Y[int(validation):]\n",
    "\n",
    "np.random.seed(42)\n",
    "tf.random.set_seed(42)\n",
    "\n",
    "model6 = keras.models.Sequential([\n",
    "    keras.layers.SimpleRNN(20, return_sequences=True, input_shape=[None, len(all_data.columns)]),\n",
    "    keras.layers.SimpleRNN(20, return_sequences=True),\n",
    "    keras.layers.TimeDistributed(keras.layers.Dense(n_ahead))\n",
    "])\n",
    "\n",
    "model6.compile(loss=\"mean_squared_error\", optimizer=\"adam\", metrics=['mean_absolute_percentage_error'])\n",
    "history = model6.fit(X_train, Y_train, epochs=10,batch_size=64,\n",
    "                    validation_data=(X_valid, Y_valid))"
   ]
  },
  {
   "cell_type": "code",
   "execution_count": 30,
   "id": "1fe086ce",
   "metadata": {},
   "outputs": [
    {
     "data": {
      "image/png": "[encoded data removed]",
      "text/plain": [
       "<Figure size 432x288 with 1 Axes>"
      ]
     },
     "metadata": {
      "needs_background": "light"
     },
     "output_type": "display_data"
    }
   ],
   "source": [
    "def plot_learning_curves(loss, val_loss):\n",
    "    plt.plot(np.arange(len(loss)) + 0.5, loss, \"b.\", label=\"Training loss\")\n",
    "    plt.plot(np.arange(len(val_loss)) + 1, val_loss, \"r-\", label=\"Validation loss\")\n",
    "    plt.gca().xaxis.set_major_locator(mpl.ticker.MaxNLocator(integer=True))\n",
    "    plt.axis([1, 20, 0, 25])\n",
    "    plt.legend(fontsize=14)\n",
    "    plt.xlabel(\"Epochs\")\n",
    "    plt.ylabel(\"Loss\")\n",
    "    plt.grid(True)\n",
    "\n",
    "plot_learning_curves(history.history[\"loss\"], history.history[\"val_loss\"])\n",
    "plt.show()"
   ]
  }
 ],
 "metadata": {
  "kernelspec": {
   "display_name": "Python 3",
   "language": "python",
   "name": "python3"
  },
  "language_info": {
   "codemirror_mode": {
    "name": "ipython",
    "version": 3
   },
   "file_extension": ".py",
   "mimetype": "text/x-python",
   "name": "python",
   "nbconvert_exporter": "python",
   "pygments_lexer": "ipython3",
   "version": "3.9.2"
  }
 },
 "nbformat": 4,
 "nbformat_minor": 5
}
