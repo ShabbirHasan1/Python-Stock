{
 "cells": [
  {
   "cell_type": "code",
   "execution_count": 959,
   "id": "42fcefe1",
   "metadata": {},
   "outputs": [
    {
     "data": {
      "text/plain": [
       "<AxesSubplot:xlabel='Date'>"
      ]
     },
     "execution_count": 959,
     "metadata": {},
     "output_type": "execute_result"
    },
    {
     "data": {
      "image/png": "[encoded data removed]",
      "text/plain": [
       "<Figure size 432x288 with 1 Axes>"
      ]
     },
     "metadata": {
      "needs_background": "light"
     },
     "output_type": "display_data"
    }
   ],
   "source": [
    "import pandas as pd\n",
    "import yfinance as yf\n",
    "import numpy as np\n",
    "from yahoofinancials import YahooFinancials\n",
    "Stock = yf.download('GOLD', \n",
    "                      start='2013-01-01', \n",
    "                      end='2019-12-31', \n",
    "                      progress=False)\n",
    "# AMZN = yf.download('AMZN') for all \n",
    "all_data = Stock[['Adj Close','Open', 'High', 'Low', 'Close', 'Volume']].round(2)\n",
    "all_data.head(10)\n",
    "all_data['Adj Close'].plot()\n",
    "# There are 1,510 and 251 observations in the training and test data respectively."
   ]
  },
  {
   "cell_type": "code",
   "execution_count": null,
   "id": "657ce559",
   "metadata": {},
   "outputs": [],
   "source": []
  },
  {
   "cell_type": "code",
   "execution_count": null,
   "id": "dd29eda8",
   "metadata": {},
   "outputs": [],
   "source": []
  },
  {
   "cell_type": "code",
   "execution_count": 960,
   "id": "e17422f8",
   "metadata": {},
   "outputs": [],
   "source": [
    "\n",
    "def ts_train_test_normalize(all_data,time_steps,for_periods, n_features):\n",
    "    '''\n",
    "    input: \n",
    "      data: dataframe with dates and price data\n",
    "    output:\n",
    "      X_train, y_train: data from 2013/1/1-2018/12/31\n",
    "      X_test:  data from 2019 -\n",
    "      sc:      insantiated MinMaxScaler object fit to the training data\n",
    "    '''\n",
    "    # create training and test set\n",
    "\n",
    "    #n_features = 1\n",
    "            \n",
    "    # scale the data\n",
    "    from sklearn.preprocessing import MinMaxScaler\n",
    "    from sklearn.preprocessing import StandardScaler\n",
    "    from sklearn.preprocessing import RobustScaler\n",
    "    from sklearn.preprocessing import Normalizer\n",
    "    from sklearn.preprocessing import QuantileTransformer\n",
    "    #sc = MinMaxScaler()\n",
    "    #sc = RobustScaler()\n",
    "    #sc = Normalizer()\n",
    "    sc = QuantileTransformer(output_distribution='normal')\n",
    "    #sc = StandardScaler()\n",
    "    \n",
    "    #transform each range to scale\n",
    "    \n",
    "    sc.fit(all_data[(all_data.index<'2019')].iloc[:,0:n_features])\n",
    "    \n",
    "    #transform each range to scale\n",
    "    \n",
    "    #s_train_scaled = all_data[(all_data.index<'2017')].iloc[:,0:n_features].values\n",
    "    ts_train_scaled = sc.transform(all_data[(all_data.index<='2017')].iloc[:,0:n_features])    \n",
    "    #ts_valid_scaled = all_data[(all_data.index>='2017')&(all_data.index<'2019')].iloc[:,0:n_features].values\n",
    "    ts_valid_scaled = sc.transform(all_data[(all_data.index>'2017')&(all_data.index<'2019')].iloc[:,0:n_features])\n",
    "    #ts_test_scaled  = all_data[(all_data.index>='2019')].iloc[:,0:n_features].values\n",
    "    ts_test_scaled  = sc.transform(all_data[(all_data.index>='2019')].iloc[:,0:n_features])\n",
    "    \n",
    "    #new_series = pd.DataFrame(all_data[:'2017'].iloc[:,0:n_features].values).append(pd.DataFrame(all_data['2017':'2018'].iloc[:,0:n_features].values),ignore_index=True).append(pd.DataFrame(all_data['2019':].iloc[:,0:n_features].values),ignore_index=True)\n",
    "    new_series = pd.DataFrame(ts_train_scaled).append(pd.DataFrame(ts_valid_scaled)).append(pd.DataFrame(ts_test_scaled))\n",
    "    \n",
    "    series_reshaped = np.array([new_series[i:i + (n_steps+n_ahead)].copy() for i in range(len(all_data) - (n_steps+n_ahead))])        \n",
    "    \n",
    "    X_train = series_reshaped[:len(ts_train_scaled)-(n_steps+n_ahead)+2,:n_steps]\n",
    "    X_valid = series_reshaped[len(ts_train_scaled)-(n_steps+n_ahead)+2:len(ts_train_scaled)-(n_steps+n_ahead)+2+len(ts_valid_scaled),:n_steps]\n",
    "    X_test = series_reshaped[-len(ts_test_scaled)+2:,:n_steps]\n",
    "    \n",
    "    Y = np.empty(((len(all_data) - n_steps - n_ahead), n_steps, n_ahead))  \n",
    "    \n",
    "    for step_ahead in range(1, n_ahead + 1):     \n",
    "       Y[..., step_ahead - 1] =   series_reshaped[..., step_ahead:step_ahead + n_steps, 0]\n",
    "\n",
    "    Y_train = Y[:len(ts_train_scaled)-(n_steps+n_ahead)+2,:n_steps]\n",
    "    Y_valid = Y[len(ts_train_scaled)-(n_steps+n_ahead)+2:len(ts_train_scaled)-(n_steps+n_ahead)+2+len(ts_valid_scaled),:n_steps]\n",
    "    Y_test = Y[-len(ts_test_scaled)+2:,:n_steps]\n",
    "    \n",
    "    #print(ts_train_scaled)\n",
    "    return X_train, Y_train, X_valid, Y_valid, X_test, sc\n"
   ]
  },
  {
   "cell_type": "code",
   "execution_count": null,
   "id": "d76d4f5e",
   "metadata": {},
   "outputs": [],
   "source": []
  },
  {
   "cell_type": "code",
   "execution_count": null,
   "id": "11a6f40e",
   "metadata": {},
   "outputs": [],
   "source": []
  },
  {
   "cell_type": "code",
   "execution_count": 961,
   "id": "604a3804",
   "metadata": {},
   "outputs": [
    {
     "name": "stdout",
     "output_type": "stream",
     "text": [
      "987 21 6\n",
      "987 21 2\n",
      "502 21 6\n",
      "502 21 2\n",
      "249 21 6\n"
     ]
    }
   ],
   "source": [
    "n_steps = 21\n",
    "n_ahead = 2\n",
    "n_features = len(all_data)\n",
    "\n",
    "X_train, Y_train, X_valid, Y_valid, X_test, sc = ts_train_test_normalize(all_data,n_steps,n_ahead,n_features)\n",
    "print(X_train.shape[0],X_train.shape[1],X_train.shape[2])\n",
    "print(Y_train.shape[0],Y_train.shape[1],Y_train.shape[2])\n",
    "print(X_valid.shape[0],X_valid.shape[1],X_valid.shape[2])\n",
    "print(Y_valid.shape[0],Y_valid.shape[1],Y_valid.shape[2])\n",
    "print(X_test.shape[0],X_test.shape[1],X_test.shape[2])"
   ]
  },
  {
   "cell_type": "code",
   "execution_count": 962,
   "id": "eeb5774a",
   "metadata": {},
   "outputs": [
    {
     "name": "stdout",
     "output_type": "stream",
     "text": [
      "Epoch 1/100\n",
      "7/7 [==============================] - 2s 129ms/step - loss: 0.6633 - mean_squared_error: 0.6633 - val_loss: 0.1537 - val_mean_squared_error: 0.1537\n",
      "Epoch 2/100\n",
      "7/7 [==============================] - 0s 14ms/step - loss: 0.2014 - mean_squared_error: 0.2014 - val_loss: 0.0481 - val_mean_squared_error: 0.0481\n",
      "Epoch 3/100\n",
      "7/7 [==============================] - 0s 14ms/step - loss: 0.0893 - mean_squared_error: 0.0893 - val_loss: 0.0466 - val_mean_squared_error: 0.0466\n",
      "Epoch 4/100\n",
      "7/7 [==============================] - 0s 15ms/step - loss: 0.0875 - mean_squared_error: 0.0875 - val_loss: 0.0563 - val_mean_squared_error: 0.0563\n",
      "Epoch 5/100\n",
      "7/7 [==============================] - 0s 15ms/step - loss: 0.0834 - mean_squared_error: 0.0834 - val_loss: 0.0683 - val_mean_squared_error: 0.0683\n",
      "Epoch 6/100\n",
      "7/7 [==============================] - 0s 15ms/step - loss: 0.0951 - mean_squared_error: 0.0951 - val_loss: 0.0309 - val_mean_squared_error: 0.0309\n",
      "Epoch 7/100\n",
      "7/7 [==============================] - 0s 14ms/step - loss: 0.0607 - mean_squared_error: 0.0607 - val_loss: 0.0564 - val_mean_squared_error: 0.0564\n",
      "Epoch 8/100\n",
      "7/7 [==============================] - 0s 15ms/step - loss: 0.0831 - mean_squared_error: 0.0831 - val_loss: 0.0532 - val_mean_squared_error: 0.0532\n",
      "Epoch 9/100\n",
      "7/7 [==============================] - 0s 15ms/step - loss: 0.0726 - mean_squared_error: 0.0726 - val_loss: 0.0282 - val_mean_squared_error: 0.0282\n",
      "Epoch 10/100\n",
      "7/7 [==============================] - 0s 15ms/step - loss: 0.0598 - mean_squared_error: 0.0598 - val_loss: 0.0366 - val_mean_squared_error: 0.0366\n",
      "Epoch 11/100\n",
      "7/7 [==============================] - 0s 15ms/step - loss: 0.0575 - mean_squared_error: 0.0575 - val_loss: 0.0471 - val_mean_squared_error: 0.0471\n",
      "Epoch 12/100\n",
      "7/7 [==============================] - 0s 15ms/step - loss: 0.0739 - mean_squared_error: 0.0739 - val_loss: 0.0324 - val_mean_squared_error: 0.0324\n",
      "Epoch 13/100\n",
      "7/7 [==============================] - 0s 17ms/step - loss: 0.0626 - mean_squared_error: 0.0626 - val_loss: 0.0395 - val_mean_squared_error: 0.0395\n",
      "Epoch 14/100\n",
      "7/7 [==============================] - 0s 15ms/step - loss: 0.0615 - mean_squared_error: 0.0615 - val_loss: 0.0249 - val_mean_squared_error: 0.0249\n",
      "Epoch 15/100\n",
      "7/7 [==============================] - 0s 15ms/step - loss: 0.0578 - mean_squared_error: 0.0578 - val_loss: 0.0401 - val_mean_squared_error: 0.0401\n",
      "Epoch 16/100\n",
      "7/7 [==============================] - 0s 15ms/step - loss: 0.0653 - mean_squared_error: 0.0653 - val_loss: 0.0462 - val_mean_squared_error: 0.0462\n",
      "Epoch 17/100\n",
      "7/7 [==============================] - 0s 15ms/step - loss: 0.0571 - mean_squared_error: 0.0571 - val_loss: 0.0276 - val_mean_squared_error: 0.0276\n",
      "Epoch 18/100\n",
      "7/7 [==============================] - 0s 14ms/step - loss: 0.0509 - mean_squared_error: 0.0509 - val_loss: 0.0332 - val_mean_squared_error: 0.0332\n",
      "Epoch 19/100\n",
      "7/7 [==============================] - 0s 14ms/step - loss: 0.0550 - mean_squared_error: 0.0550 - val_loss: 0.0385 - val_mean_squared_error: 0.0385\n",
      "Epoch 20/100\n",
      "7/7 [==============================] - 0s 16ms/step - loss: 0.0599 - mean_squared_error: 0.0599 - val_loss: 0.0271 - val_mean_squared_error: 0.0271\n",
      "Epoch 21/100\n",
      "7/7 [==============================] - 0s 17ms/step - loss: 0.0531 - mean_squared_error: 0.0531 - val_loss: 0.0281 - val_mean_squared_error: 0.0281\n",
      "Epoch 22/100\n",
      "7/7 [==============================] - 0s 14ms/step - loss: 0.0453 - mean_squared_error: 0.0453 - val_loss: 0.0269 - val_mean_squared_error: 0.0269\n",
      "Epoch 23/100\n",
      "7/7 [==============================] - 0s 14ms/step - loss: 0.0530 - mean_squared_error: 0.0530 - val_loss: 0.0270 - val_mean_squared_error: 0.0270\n",
      "Epoch 24/100\n",
      "7/7 [==============================] - 0s 15ms/step - loss: 0.0434 - mean_squared_error: 0.0434 - val_loss: 0.0232 - val_mean_squared_error: 0.0232\n",
      "Epoch 25/100\n",
      "7/7 [==============================] - 0s 15ms/step - loss: 0.0527 - mean_squared_error: 0.0527 - val_loss: 0.0251 - val_mean_squared_error: 0.0251\n",
      "Epoch 26/100\n",
      "7/7 [==============================] - 0s 15ms/step - loss: 0.0481 - mean_squared_error: 0.0481 - val_loss: 0.0254 - val_mean_squared_error: 0.0254\n",
      "Epoch 27/100\n",
      "7/7 [==============================] - 0s 17ms/step - loss: 0.0461 - mean_squared_error: 0.0461 - val_loss: 0.0403 - val_mean_squared_error: 0.0403\n",
      "Epoch 28/100\n",
      "7/7 [==============================] - 0s 17ms/step - loss: 0.0469 - mean_squared_error: 0.0469 - val_loss: 0.0197 - val_mean_squared_error: 0.0197\n",
      "Epoch 29/100\n",
      "7/7 [==============================] - 0s 17ms/step - loss: 0.0464 - mean_squared_error: 0.0464 - val_loss: 0.0288 - val_mean_squared_error: 0.0288\n",
      "Epoch 30/100\n",
      "7/7 [==============================] - 0s 18ms/step - loss: 0.0500 - mean_squared_error: 0.0500 - val_loss: 0.0242 - val_mean_squared_error: 0.0242\n",
      "Epoch 31/100\n",
      "7/7 [==============================] - 0s 15ms/step - loss: 0.0470 - mean_squared_error: 0.0470 - val_loss: 0.0300 - val_mean_squared_error: 0.0300\n",
      "Epoch 32/100\n",
      "7/7 [==============================] - 0s 15ms/step - loss: 0.0539 - mean_squared_error: 0.0539 - val_loss: 0.0211 - val_mean_squared_error: 0.0211\n",
      "Epoch 33/100\n",
      "7/7 [==============================] - 0s 15ms/step - loss: 0.0384 - mean_squared_error: 0.0384 - val_loss: 0.0231 - val_mean_squared_error: 0.0231\n",
      "Epoch 34/100\n",
      "7/7 [==============================] - 0s 15ms/step - loss: 0.0464 - mean_squared_error: 0.0464 - val_loss: 0.0379 - val_mean_squared_error: 0.0379\n",
      "Epoch 35/100\n",
      "7/7 [==============================] - 0s 15ms/step - loss: 0.0580 - mean_squared_error: 0.0580 - val_loss: 0.0180 - val_mean_squared_error: 0.0180\n",
      "Epoch 36/100\n",
      "7/7 [==============================] - 0s 15ms/step - loss: 0.0347 - mean_squared_error: 0.0347 - val_loss: 0.0237 - val_mean_squared_error: 0.0237\n",
      "Epoch 37/100\n",
      "7/7 [==============================] - 0s 15ms/step - loss: 0.0473 - mean_squared_error: 0.0473 - val_loss: 0.0272 - val_mean_squared_error: 0.0272\n",
      "Epoch 38/100\n",
      "7/7 [==============================] - 0s 17ms/step - loss: 0.0426 - mean_squared_error: 0.0426 - val_loss: 0.0207 - val_mean_squared_error: 0.0207\n",
      "Epoch 39/100\n",
      "7/7 [==============================] - 0s 15ms/step - loss: 0.0445 - mean_squared_error: 0.0445 - val_loss: 0.0273 - val_mean_squared_error: 0.0273\n",
      "Epoch 40/100\n",
      "7/7 [==============================] - 0s 16ms/step - loss: 0.0423 - mean_squared_error: 0.0423 - val_loss: 0.0191 - val_mean_squared_error: 0.0191\n",
      "Epoch 41/100\n",
      "7/7 [==============================] - 0s 15ms/step - loss: 0.0425 - mean_squared_error: 0.0425 - val_loss: 0.0343 - val_mean_squared_error: 0.0343\n",
      "Epoch 42/100\n",
      "7/7 [==============================] - 0s 16ms/step - loss: 0.0481 - mean_squared_error: 0.0481 - val_loss: 0.0192 - val_mean_squared_error: 0.0192\n",
      "Epoch 43/100\n",
      "7/7 [==============================] - 0s 14ms/step - loss: 0.0396 - mean_squared_error: 0.0396 - val_loss: 0.0263 - val_mean_squared_error: 0.0263\n",
      "Epoch 44/100\n",
      "7/7 [==============================] - 0s 15ms/step - loss: 0.0482 - mean_squared_error: 0.0482 - val_loss: 0.0207 - val_mean_squared_error: 0.0207\n",
      "Epoch 45/100\n",
      "7/7 [==============================] - 0s 15ms/step - loss: 0.0400 - mean_squared_error: 0.0400 - val_loss: 0.0214 - val_mean_squared_error: 0.0214\n",
      "Epoch 46/100\n",
      "7/7 [==============================] - 0s 15ms/step - loss: 0.0424 - mean_squared_error: 0.0424 - val_loss: 0.0217 - val_mean_squared_error: 0.0217\n",
      "Epoch 47/100\n",
      "7/7 [==============================] - 0s 15ms/step - loss: 0.0398 - mean_squared_error: 0.0398 - val_loss: 0.0299 - val_mean_squared_error: 0.0299\n",
      "Epoch 48/100\n",
      "7/7 [==============================] - 0s 15ms/step - loss: 0.0436 - mean_squared_error: 0.0436 - val_loss: 0.0213 - val_mean_squared_error: 0.0213\n",
      "Epoch 49/100\n",
      "7/7 [==============================] - 0s 15ms/step - loss: 0.0450 - mean_squared_error: 0.0450 - val_loss: 0.0228 - val_mean_squared_error: 0.0228\n",
      "Epoch 50/100\n",
      "7/7 [==============================] - 0s 15ms/step - loss: 0.0360 - mean_squared_error: 0.0360 - val_loss: 0.0255 - val_mean_squared_error: 0.0255\n",
      "Epoch 51/100\n",
      "7/7 [==============================] - 0s 14ms/step - loss: 0.0439 - mean_squared_error: 0.0439 - val_loss: 0.0266 - val_mean_squared_error: 0.0266\n",
      "Epoch 52/100\n",
      "7/7 [==============================] - 0s 15ms/step - loss: 0.0389 - mean_squared_error: 0.0389 - val_loss: 0.0206 - val_mean_squared_error: 0.0206\n",
      "Epoch 53/100\n",
      "7/7 [==============================] - 0s 15ms/step - loss: 0.0420 - mean_squared_error: 0.0420 - val_loss: 0.0399 - val_mean_squared_error: 0.0399\n",
      "Epoch 54/100\n",
      "7/7 [==============================] - 0s 15ms/step - loss: 0.0490 - mean_squared_error: 0.0490 - val_loss: 0.0189 - val_mean_squared_error: 0.0189\n",
      "Epoch 55/100\n",
      "7/7 [==============================] - 0s 15ms/step - loss: 0.0378 - mean_squared_error: 0.0378 - val_loss: 0.0368 - val_mean_squared_error: 0.0368\n",
      "Epoch 56/100\n",
      "7/7 [==============================] - 0s 14ms/step - loss: 0.0492 - mean_squared_error: 0.0492 - val_loss: 0.0201 - val_mean_squared_error: 0.0201\n",
      "Epoch 57/100\n",
      "7/7 [==============================] - 0s 15ms/step - loss: 0.0384 - mean_squared_error: 0.0384 - val_loss: 0.0235 - val_mean_squared_error: 0.0235\n",
      "Epoch 58/100\n",
      "7/7 [==============================] - 0s 14ms/step - loss: 0.0351 - mean_squared_error: 0.0351 - val_loss: 0.0336 - val_mean_squared_error: 0.0336\n",
      "Epoch 59/100\n",
      "7/7 [==============================] - 0s 14ms/step - loss: 0.0476 - mean_squared_error: 0.0476 - val_loss: 0.0197 - val_mean_squared_error: 0.0197\n",
      "Epoch 60/100\n",
      "7/7 [==============================] - 0s 14ms/step - loss: 0.0331 - mean_squared_error: 0.0331 - val_loss: 0.0305 - val_mean_squared_error: 0.0305\n",
      "Epoch 61/100\n",
      "7/7 [==============================] - 0s 15ms/step - loss: 0.0406 - mean_squared_error: 0.0406 - val_loss: 0.0231 - val_mean_squared_error: 0.0231\n",
      "Epoch 62/100\n",
      "7/7 [==============================] - 0s 14ms/step - loss: 0.0402 - mean_squared_error: 0.0402 - val_loss: 0.0234 - val_mean_squared_error: 0.0234\n",
      "Epoch 63/100\n",
      "7/7 [==============================] - 0s 15ms/step - loss: 0.0342 - mean_squared_error: 0.0342 - val_loss: 0.0238 - val_mean_squared_error: 0.0238\n",
      "Epoch 64/100\n",
      "7/7 [==============================] - 0s 15ms/step - loss: 0.0434 - mean_squared_error: 0.0434 - val_loss: 0.0244 - val_mean_squared_error: 0.0244\n",
      "Epoch 65/100\n",
      "7/7 [==============================] - 0s 19ms/step - loss: 0.0334 - mean_squared_error: 0.0334 - val_loss: 0.0209 - val_mean_squared_error: 0.0209\n",
      "Epoch 66/100\n",
      "7/7 [==============================] - 0s 17ms/step - loss: 0.0367 - mean_squared_error: 0.0367 - val_loss: 0.0421 - val_mean_squared_error: 0.0421\n",
      "Epoch 67/100\n",
      "7/7 [==============================] - 0s 17ms/step - loss: 0.0402 - mean_squared_error: 0.0402 - val_loss: 0.0202 - val_mean_squared_error: 0.0202\n",
      "Epoch 68/100\n",
      "7/7 [==============================] - 0s 18ms/step - loss: 0.0321 - mean_squared_error: 0.0321 - val_loss: 0.0277 - val_mean_squared_error: 0.0277\n",
      "Epoch 69/100\n",
      "7/7 [==============================] - 0s 17ms/step - loss: 0.0396 - mean_squared_error: 0.0396 - val_loss: 0.0233 - val_mean_squared_error: 0.0233\n",
      "Epoch 70/100\n",
      "7/7 [==============================] - 0s 15ms/step - loss: 0.0386 - mean_squared_error: 0.0386 - val_loss: 0.0192 - val_mean_squared_error: 0.0192\n",
      "Epoch 71/100\n",
      "7/7 [==============================] - 0s 16ms/step - loss: 0.0326 - mean_squared_error: 0.0326 - val_loss: 0.0225 - val_mean_squared_error: 0.0225\n",
      "Epoch 72/100\n",
      "7/7 [==============================] - 0s 15ms/step - loss: 0.0438 - mean_squared_error: 0.0438 - val_loss: 0.0198 - val_mean_squared_error: 0.0198\n",
      "Epoch 73/100\n",
      "7/7 [==============================] - 0s 15ms/step - loss: 0.0315 - mean_squared_error: 0.0315 - val_loss: 0.0224 - val_mean_squared_error: 0.0224\n",
      "Epoch 74/100\n",
      "7/7 [==============================] - 0s 15ms/step - loss: 0.0365 - mean_squared_error: 0.0365 - val_loss: 0.0287 - val_mean_squared_error: 0.0287\n",
      "Epoch 75/100\n",
      "7/7 [==============================] - 0s 15ms/step - loss: 0.0522 - mean_squared_error: 0.0522 - val_loss: 0.0193 - val_mean_squared_error: 0.0193\n",
      "Epoch 76/100\n",
      "7/7 [==============================] - 0s 15ms/step - loss: 0.0293 - mean_squared_error: 0.0293 - val_loss: 0.0189 - val_mean_squared_error: 0.0189\n",
      "Epoch 77/100\n",
      "7/7 [==============================] - 0s 15ms/step - loss: 0.0345 - mean_squared_error: 0.0345 - val_loss: 0.0243 - val_mean_squared_error: 0.0243\n",
      "Epoch 78/100\n",
      "7/7 [==============================] - 0s 15ms/step - loss: 0.0407 - mean_squared_error: 0.0407 - val_loss: 0.0232 - val_mean_squared_error: 0.0232\n",
      "Epoch 79/100\n",
      "7/7 [==============================] - 0s 14ms/step - loss: 0.0305 - mean_squared_error: 0.0305 - val_loss: 0.0236 - val_mean_squared_error: 0.0236\n",
      "Epoch 80/100\n",
      "7/7 [==============================] - 0s 14ms/step - loss: 0.0396 - mean_squared_error: 0.0396 - val_loss: 0.0234 - val_mean_squared_error: 0.0234\n",
      "Epoch 81/100\n",
      "7/7 [==============================] - 0s 15ms/step - loss: 0.0341 - mean_squared_error: 0.0341 - val_loss: 0.0203 - val_mean_squared_error: 0.0203\n",
      "Epoch 82/100\n",
      "7/7 [==============================] - 0s 15ms/step - loss: 0.0344 - mean_squared_error: 0.0344 - val_loss: 0.0289 - val_mean_squared_error: 0.0289\n",
      "Epoch 83/100\n",
      "7/7 [==============================] - 0s 15ms/step - loss: 0.0417 - mean_squared_error: 0.0417 - val_loss: 0.0196 - val_mean_squared_error: 0.0196\n",
      "Epoch 84/100\n",
      "7/7 [==============================] - 0s 15ms/step - loss: 0.0336 - mean_squared_error: 0.0336 - val_loss: 0.0236 - val_mean_squared_error: 0.0236\n",
      "Epoch 85/100\n",
      "7/7 [==============================] - 0s 15ms/step - loss: 0.0368 - mean_squared_error: 0.0368 - val_loss: 0.0210 - val_mean_squared_error: 0.0210\n",
      "Epoch 86/100\n",
      "7/7 [==============================] - 0s 14ms/step - loss: 0.0392 - mean_squared_error: 0.0392 - val_loss: 0.0206 - val_mean_squared_error: 0.0206\n",
      "Epoch 87/100\n",
      "7/7 [==============================] - 0s 15ms/step - loss: 0.0307 - mean_squared_error: 0.0307 - val_loss: 0.0225 - val_mean_squared_error: 0.0225\n",
      "Epoch 88/100\n",
      "7/7 [==============================] - 0s 15ms/step - loss: 0.0380 - mean_squared_error: 0.0380 - val_loss: 0.0218 - val_mean_squared_error: 0.0218\n",
      "Epoch 89/100\n",
      "7/7 [==============================] - 0s 14ms/step - loss: 0.0347 - mean_squared_error: 0.0347 - val_loss: 0.0236 - val_mean_squared_error: 0.0236\n",
      "Epoch 90/100\n",
      "7/7 [==============================] - 0s 14ms/step - loss: 0.0358 - mean_squared_error: 0.0358 - val_loss: 0.0202 - val_mean_squared_error: 0.0202\n",
      "Epoch 91/100\n",
      "7/7 [==============================] - 0s 15ms/step - loss: 0.0325 - mean_squared_error: 0.0325 - val_loss: 0.0288 - val_mean_squared_error: 0.0288\n",
      "Epoch 92/100\n",
      "7/7 [==============================] - 0s 14ms/step - loss: 0.0368 - mean_squared_error: 0.0368 - val_loss: 0.0221 - val_mean_squared_error: 0.0221\n",
      "Epoch 93/100\n",
      "7/7 [==============================] - 0s 14ms/step - loss: 0.0321 - mean_squared_error: 0.0321 - val_loss: 0.0245 - val_mean_squared_error: 0.0245\n",
      "Epoch 94/100\n",
      "7/7 [==============================] - 0s 15ms/step - loss: 0.0325 - mean_squared_error: 0.0325 - val_loss: 0.0209 - val_mean_squared_error: 0.0209\n",
      "Epoch 95/100\n",
      "7/7 [==============================] - 0s 15ms/step - loss: 0.0340 - mean_squared_error: 0.0340 - val_loss: 0.0277 - val_mean_squared_error: 0.0277\n",
      "Epoch 96/100\n",
      "7/7 [==============================] - 0s 15ms/step - loss: 0.0327 - mean_squared_error: 0.0327 - val_loss: 0.0240 - val_mean_squared_error: 0.0240\n",
      "Epoch 97/100\n",
      "7/7 [==============================] - 0s 15ms/step - loss: 0.0361 - mean_squared_error: 0.0361 - val_loss: 0.0204 - val_mean_squared_error: 0.0204\n",
      "Epoch 98/100\n",
      "7/7 [==============================] - 0s 15ms/step - loss: 0.0351 - mean_squared_error: 0.0351 - val_loss: 0.0214 - val_mean_squared_error: 0.0214\n",
      "Epoch 99/100\n",
      "7/7 [==============================] - 0s 14ms/step - loss: 0.0287 - mean_squared_error: 0.0287 - val_loss: 0.0275 - val_mean_squared_error: 0.0275\n",
      "Epoch 100/100\n",
      "7/7 [==============================] - 0s 15ms/step - loss: 0.0313 - mean_squared_error: 0.0313 - val_loss: 0.0292 - val_mean_squared_error: 0.0292\n"
     ]
    }
   ],
   "source": [
    "import tensorflow as tf\n",
    "from tensorflow import keras\n",
    "epochs_ = 100\n",
    "batch_size_ = 150\n",
    "\n",
    "np.random.seed(42)\n",
    "tf.random.set_seed(42)\n",
    "\n",
    "from keras.layers import Dense, SimpleRNN, GRU, LSTM\n",
    "from keras.optimizers import SGD\n",
    "\n",
    "#simple RNN\n",
    "\n",
    "model6 = keras.models.Sequential([\n",
    "    \n",
    "    keras.layers.SimpleRNN(64, return_sequences=True, input_shape=[None, len(all_data.columns)]),\n",
    "    keras.layers.SimpleRNN(64, return_sequences=True),\n",
    "    keras.layers.TimeDistributed(keras.layers.Dense(n_ahead))\n",
    "])\n",
    "\n",
    "model6.compile(loss=\"mean_squared_error\", optimizer=\"rmsprop\",metrics=['mean_squared_error'])\n",
    "\n",
    "history = model6.fit(X_train, Y_train, epochs=epochs_,batch_size=batch_size_,validation_data=(X_valid, Y_valid))\n",
    "\n"
   ]
  },
  {
   "cell_type": "code",
   "execution_count": 963,
   "id": "5b63c349",
   "metadata": {},
   "outputs": [],
   "source": [
    "# - scaler   = the scaler object (it needs an inverse_transform method)\n",
    "# - data     = the data to be inverse transformed as a Series, ndarray, ... \n",
    "#              (a 1d object you can assign to a df column)\n",
    "# - ftName   = the name of the column to which the data belongs\n",
    "# - colNames = all column names of the data on which scaler was fit \n",
    "#              (necessary because scaler will only accept a df of the same shape as the one it was fit on)\n",
    "def invTransform(scaler, data, colName, colNames):\n",
    "    dummy = pd.DataFrame(np.zeros((len(data), len(colNames))), columns=colNames)\n",
    "    dummy[colName] = data\n",
    "    dummy = pd.DataFrame(scaler.inverse_transform(dummy), columns=colNames)\n",
    "    return dummy[colName].values\n"
   ]
  },
  {
   "cell_type": "code",
   "execution_count": null,
   "id": "5b7342a3",
   "metadata": {},
   "outputs": [],
   "source": []
  },
  {
   "cell_type": "code",
   "execution_count": 964,
   "id": "8d3ef4ae",
   "metadata": {},
   "outputs": [
    {
     "data": {
      "text/plain": [
       "'\\nmodel10 = keras.models.Sequential([\\n    keras.layers.Conv1D(filters=20, kernel_size=4, strides=2, padding=\"valid\",\\n                        input_shape=[None, len(all_data.columns)]),\\n    \\n    keras.layers.GRU(50, return_sequences=True,activation=\\'tanh\\'),\\n    keras.layers.Dropout(0.2),\\n    keras.layers.GRU(50, return_sequences=True,activation=\\'tanh\\'),\\n    keras.layers.Dropout(0.2),\\n    keras.layers.GRU(50, return_sequences=True,activation=\\'tanh\\'),\\n    keras.layers.Dropout(0.2),\\n\\n    keras.layers.TimeDistributed(keras.layers.Dense(n_ahead))\\n])\\n\\n#model10.compile(loss=\"mape\", optimizer=\"adam\")\\nmodel10.compile(tf.keras.optimizers.SGD(learning_rate=0.01, decay=1e-7, momentum=0.9, nesterov=False, name=\"SGD\"),loss=\\'mean_squared_error\\')\\nhistory2 = model10.fit(X_train, Y_train[:, 3::2], epochs=epochs_,batch_size=batch_size_,\\n                    validation_data=(X_valid, Y_valid[:, 3::2]))#, callbacks = [es])\\n'"
      ]
     },
     "execution_count": 964,
     "metadata": {},
     "output_type": "execute_result"
    }
   ],
   "source": [
    "np.random.seed(42)\n",
    "tf.random.set_seed(42)\n",
    "\n",
    "#GRU with regularization\n",
    "'''\n",
    "model10 = keras.models.Sequential([\n",
    "    keras.layers.Conv1D(filters=20, kernel_size=4, strides=2, padding=\"valid\",\n",
    "                        input_shape=[None, len(all_data.columns)]),\n",
    "    \n",
    "    keras.layers.GRU(50, return_sequences=True,activation='tanh'),\n",
    "    keras.layers.Dropout(0.2),\n",
    "    keras.layers.GRU(50, return_sequences=True,activation='tanh'),\n",
    "    keras.layers.Dropout(0.2),\n",
    "    keras.layers.GRU(50, return_sequences=True,activation='tanh'),\n",
    "    keras.layers.Dropout(0.2),\n",
    "\n",
    "    keras.layers.TimeDistributed(keras.layers.Dense(n_ahead))\n",
    "])\n",
    "\n",
    "#model10.compile(loss=\"mape\", optimizer=\"adam\")\n",
    "model10.compile(tf.keras.optimizers.SGD(learning_rate=0.01, decay=1e-7, momentum=0.9, nesterov=False, name=\"SGD\"),loss='mean_squared_error')\n",
    "history2 = model10.fit(X_train, Y_train[:, 3::2], epochs=epochs_,batch_size=batch_size_,\n",
    "                    validation_data=(X_valid, Y_valid[:, 3::2]))#, callbacks = [es])\n",
    "'''"
   ]
  },
  {
   "cell_type": "code",
   "execution_count": null,
   "id": "2592f00f",
   "metadata": {},
   "outputs": [],
   "source": []
  },
  {
   "cell_type": "code",
   "execution_count": 965,
   "id": "695f0eb5",
   "metadata": {},
   "outputs": [],
   "source": [
    "Y_pred = model6.predict(X_test)\n",
    "\n",
    "last_list=[]\n",
    "\n",
    "for i in range (0, len(Y_pred)):\n",
    "  last_list.append((Y_pred[i][0][n_ahead-1]))\n",
    "    \n",
    "actual = pd.DataFrame((sc.inverse_transform(X_test[:,0])))\n",
    "#actual = pd.DataFrame(((X_test[:,0])))\n",
    "actual.rename(columns = {0:'actual'}, inplace = True)\n",
    "actual['predictions'] = last_list\n",
    "actual['predictions'] = invTransform(sc,actual[\"predictions\"],\"Adj Close\",all_data.columns)\n",
    "actual['difference'] = (actual['predictions'] - actual['actual']).abs()\n",
    "actual['difference_percentage'] = ((actual['difference'])/(actual['actual']))*100\n"
   ]
  },
  {
   "cell_type": "code",
   "execution_count": 966,
   "id": "1cc9ae19",
   "metadata": {},
   "outputs": [
    {
     "data": {
      "text/plain": [
       "<matplotlib.collections.PathCollection at 0x7fc8d2a96610>"
      ]
     },
     "execution_count": 966,
     "metadata": {},
     "output_type": "execute_result"
    },
    {
     "data": {
      "image/png": "[encoded data removed]",
      "text/plain": [
       "<Figure size 432x288 with 1 Axes>"
      ]
     },
     "metadata": {
      "needs_background": "light"
     },
     "output_type": "display_data"
    }
   ],
   "source": [
    "import matplotlib.pyplot as plt\n",
    "plt.scatter(actual[\"actual\"],actual[\"predictions\"])"
   ]
  },
  {
   "cell_type": "code",
   "execution_count": 967,
   "id": "2b694b9c",
   "metadata": {},
   "outputs": [
    {
     "data": {
      "image/png": "[encoded data removed]",
      "text/plain": [
       "<Figure size 432x288 with 1 Axes>"
      ]
     },
     "metadata": {
      "needs_background": "light"
     },
     "output_type": "display_data"
    }
   ],
   "source": [
    "from matplotlib import pyplot as plt\n",
    "plt.plot(actual[\"actual\"],label=\"actual\")\n",
    "plt.plot(actual[\"predictions\"],label=\"predictions\")\n",
    "plt.legend()\n",
    "plt.show()"
   ]
  }
 ],
 "metadata": {
  "kernelspec": {
   "display_name": "Python 3",
   "language": "python",
   "name": "python3"
  },
  "language_info": {
   "codemirror_mode": {
    "name": "ipython",
    "version": 3
   },
   "file_extension": ".py",
   "mimetype": "text/x-python",
   "name": "python",
   "nbconvert_exporter": "python",
   "pygments_lexer": "ipython3",
   "version": "3.9.2"
  }
 },
 "nbformat": 4,
 "nbformat_minor": 5
}
